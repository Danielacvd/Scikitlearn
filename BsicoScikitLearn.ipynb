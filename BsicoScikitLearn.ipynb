{
  "nbformat": 4,
  "nbformat_minor": 0,
  "metadata": {
    "colab": {
      "name": "BsicoScikitLearn.ipynb",
      "provenance": [],
      "collapsed_sections": []
    },
    "kernelspec": {
      "name": "python3",
      "display_name": "Python 3"
    }
  },
  "cells": [
    {
      "cell_type": "code",
      "metadata": {
        "id": "9ix5XsGIWb-c"
      },
      "source": [
        "#con scikit-learn podemos dividir un conjunto de datos disponibles, en datos para pruebas y datos para test.\n",
        "!pip install sklearn\n",
        "import pandas as pd\n",
        "import numpy as np\n",
        "from sklearn.model_selection import train_test_split"
      ],
      "execution_count": null,
      "outputs": []
    },
    {
      "cell_type": "code",
      "metadata": {
        "id": "g8ItD7NlW-ty"
      },
      "source": [
        "#Creamos unos datos a partir de numpy, numeros del 0 al 100, con forma de 100 filas por 4 columnas\n",
        "datos = np.random.randint(0, 100, (100,4))"
      ],
      "execution_count": 6,
      "outputs": []
    },
    {
      "cell_type": "code",
      "metadata": {
        "id": "5dl58hj0b5gC",
        "outputId": "70be2f35-0bfb-4f7f-c2c2-3a8f3250eeae",
        "colab": {
          "base_uri": "https://localhost:8080/",
          "height": 1000
        }
      },
      "source": [
        "datos"
      ],
      "execution_count": 7,
      "outputs": [
        {
          "output_type": "execute_result",
          "data": {
            "text/plain": [
              "array([[31,  6, 93, 56],\n",
              "       [43, 41, 11, 43],\n",
              "       [91,  5, 96, 64],\n",
              "       [76, 92, 86, 19],\n",
              "       [15, 38, 24, 60],\n",
              "       [78, 78, 54, 37],\n",
              "       [66, 42,  2,  0],\n",
              "       [55, 36, 83, 98],\n",
              "       [30, 12, 41, 69],\n",
              "       [77,  5,  3, 13],\n",
              "       [ 0, 67, 10, 82],\n",
              "       [95, 14, 32,  2],\n",
              "       [70, 58, 76, 25],\n",
              "       [22,  2, 28, 30],\n",
              "       [63, 86, 61, 49],\n",
              "       [28, 58, 26, 19],\n",
              "       [74, 27, 27, 74],\n",
              "       [79, 61, 53, 87],\n",
              "       [45, 50,  1, 11],\n",
              "       [71, 39, 89, 70],\n",
              "       [24, 62, 26, 74],\n",
              "       [33, 53, 82, 65],\n",
              "       [75, 42, 48, 41],\n",
              "       [85, 11, 75, 75],\n",
              "       [45,  3, 66, 48],\n",
              "       [ 1, 10, 26, 89],\n",
              "       [18, 63, 74, 46],\n",
              "       [38, 96,  6,  4],\n",
              "       [92, 73,  6, 52],\n",
              "       [89, 59, 54, 64],\n",
              "       [77, 18, 76, 18],\n",
              "       [52, 54,  8, 44],\n",
              "       [87, 57, 87, 88],\n",
              "       [76, 40, 67, 24],\n",
              "       [ 9, 58, 62, 66],\n",
              "       [31, 60,  9, 59],\n",
              "       [12, 90, 17, 47],\n",
              "       [27, 71, 82, 85],\n",
              "       [91, 12, 80, 84],\n",
              "       [21,  2, 81, 76],\n",
              "       [ 8, 48, 15, 23],\n",
              "       [65, 71, 72, 75],\n",
              "       [81, 14,  8, 81],\n",
              "       [47, 53, 31, 51],\n",
              "       [50, 34, 23, 14],\n",
              "       [59, 70, 38,  9],\n",
              "       [47, 87, 62, 14],\n",
              "       [95, 25, 25, 72],\n",
              "       [40, 15, 80, 35],\n",
              "       [61, 59, 69, 31],\n",
              "       [22, 56, 32, 18],\n",
              "       [85, 54, 87, 33],\n",
              "       [ 8,  2, 14, 78],\n",
              "       [65, 93, 17, 23],\n",
              "       [42, 50, 49, 13],\n",
              "       [24,  9, 25, 23],\n",
              "       [99, 96, 63, 30],\n",
              "       [16, 28, 30, 96],\n",
              "       [ 1, 17, 88, 81],\n",
              "       [43, 94, 68, 78],\n",
              "       [69, 53, 19, 76],\n",
              "       [ 0, 96, 74, 46],\n",
              "       [67, 30, 45, 76],\n",
              "       [25, 69, 59, 69],\n",
              "       [ 4, 26, 78, 80],\n",
              "       [76, 69, 84, 91],\n",
              "       [36, 82, 41, 86],\n",
              "       [64, 32, 64, 82],\n",
              "       [12, 62, 59, 70],\n",
              "       [53, 31, 20, 15],\n",
              "       [58, 12, 20, 82],\n",
              "       [95, 81, 80,  8],\n",
              "       [72, 11, 50, 73],\n",
              "       [41, 10, 71, 12],\n",
              "       [ 6, 21, 58,  0],\n",
              "       [34, 99, 47, 23],\n",
              "       [25, 91, 97, 43],\n",
              "       [22, 92, 85, 72],\n",
              "       [76, 58, 37, 44],\n",
              "       [56, 35, 55,  1],\n",
              "       [63, 74, 88, 52],\n",
              "       [26, 99, 73, 20],\n",
              "       [32, 38, 93, 90],\n",
              "       [58, 92, 23, 61],\n",
              "       [40, 41, 13,  0],\n",
              "       [74, 74, 33, 64],\n",
              "       [45, 17, 41, 36],\n",
              "       [17, 43, 39, 87],\n",
              "       [99, 24, 48, 51],\n",
              "       [20, 97, 23, 21],\n",
              "       [41, 14, 80, 96],\n",
              "       [90, 74, 99, 55],\n",
              "       [72, 98, 49, 98],\n",
              "       [61, 79, 20, 30],\n",
              "       [ 5, 15, 12, 56],\n",
              "       [46, 96, 38, 91],\n",
              "       [22, 75, 63, 26],\n",
              "       [43, 97, 19, 82],\n",
              "       [ 0, 90, 91, 83],\n",
              "       [96, 41, 40, 12]])"
            ]
          },
          "metadata": {
            "tags": []
          },
          "execution_count": 7
        }
      ]
    },
    {
      "cell_type": "code",
      "metadata": {
        "id": "JqGxeUnRb-Jk",
        "outputId": "003117ed-a92a-42c2-b25f-1116b458c781",
        "colab": {
          "base_uri": "https://localhost:8080/",
          "height": 402
        }
      },
      "source": [
        "#Ahora creamos un dataframe a partir de los datos, data=datos, estos son los datos que creamos arriba, como columnas una lista de etiquetas,\n",
        "#caracteristica 1 2 3, la etiqueta o label el resultado, la caracteristica da como resultado la etiqueta (valor real, solucion, respuesta)\n",
        "dataframe = pd.DataFrame(data=datos, columns=['c1','c2','c3','Etiqueta'])\n",
        "dataframe"
      ],
      "execution_count": 11,
      "outputs": [
        {
          "output_type": "execute_result",
          "data": {
            "text/html": [
              "<div>\n",
              "<style scoped>\n",
              "    .dataframe tbody tr th:only-of-type {\n",
              "        vertical-align: middle;\n",
              "    }\n",
              "\n",
              "    .dataframe tbody tr th {\n",
              "        vertical-align: top;\n",
              "    }\n",
              "\n",
              "    .dataframe thead th {\n",
              "        text-align: right;\n",
              "    }\n",
              "</style>\n",
              "<table border=\"1\" class=\"dataframe\">\n",
              "  <thead>\n",
              "    <tr style=\"text-align: right;\">\n",
              "      <th></th>\n",
              "      <th>c1</th>\n",
              "      <th>c2</th>\n",
              "      <th>c3</th>\n",
              "      <th>Etiqueta</th>\n",
              "    </tr>\n",
              "  </thead>\n",
              "  <tbody>\n",
              "    <tr>\n",
              "      <th>0</th>\n",
              "      <td>31</td>\n",
              "      <td>6</td>\n",
              "      <td>93</td>\n",
              "      <td>56</td>\n",
              "    </tr>\n",
              "    <tr>\n",
              "      <th>1</th>\n",
              "      <td>43</td>\n",
              "      <td>41</td>\n",
              "      <td>11</td>\n",
              "      <td>43</td>\n",
              "    </tr>\n",
              "    <tr>\n",
              "      <th>2</th>\n",
              "      <td>91</td>\n",
              "      <td>5</td>\n",
              "      <td>96</td>\n",
              "      <td>64</td>\n",
              "    </tr>\n",
              "    <tr>\n",
              "      <th>3</th>\n",
              "      <td>76</td>\n",
              "      <td>92</td>\n",
              "      <td>86</td>\n",
              "      <td>19</td>\n",
              "    </tr>\n",
              "    <tr>\n",
              "      <th>4</th>\n",
              "      <td>15</td>\n",
              "      <td>38</td>\n",
              "      <td>24</td>\n",
              "      <td>60</td>\n",
              "    </tr>\n",
              "    <tr>\n",
              "      <th>...</th>\n",
              "      <td>...</td>\n",
              "      <td>...</td>\n",
              "      <td>...</td>\n",
              "      <td>...</td>\n",
              "    </tr>\n",
              "    <tr>\n",
              "      <th>95</th>\n",
              "      <td>46</td>\n",
              "      <td>96</td>\n",
              "      <td>38</td>\n",
              "      <td>91</td>\n",
              "    </tr>\n",
              "    <tr>\n",
              "      <th>96</th>\n",
              "      <td>22</td>\n",
              "      <td>75</td>\n",
              "      <td>63</td>\n",
              "      <td>26</td>\n",
              "    </tr>\n",
              "    <tr>\n",
              "      <th>97</th>\n",
              "      <td>43</td>\n",
              "      <td>97</td>\n",
              "      <td>19</td>\n",
              "      <td>82</td>\n",
              "    </tr>\n",
              "    <tr>\n",
              "      <th>98</th>\n",
              "      <td>0</td>\n",
              "      <td>90</td>\n",
              "      <td>91</td>\n",
              "      <td>83</td>\n",
              "    </tr>\n",
              "    <tr>\n",
              "      <th>99</th>\n",
              "      <td>96</td>\n",
              "      <td>41</td>\n",
              "      <td>40</td>\n",
              "      <td>12</td>\n",
              "    </tr>\n",
              "  </tbody>\n",
              "</table>\n",
              "<p>100 rows × 4 columns</p>\n",
              "</div>"
            ],
            "text/plain": [
              "    c1  c2  c3  Etiqueta\n",
              "0   31   6  93        56\n",
              "1   43  41  11        43\n",
              "2   91   5  96        64\n",
              "3   76  92  86        19\n",
              "4   15  38  24        60\n",
              "..  ..  ..  ..       ...\n",
              "95  46  96  38        91\n",
              "96  22  75  63        26\n",
              "97  43  97  19        82\n",
              "98   0  90  91        83\n",
              "99  96  41  40        12\n",
              "\n",
              "[100 rows x 4 columns]"
            ]
          },
          "metadata": {
            "tags": []
          },
          "execution_count": 11
        }
      ]
    },
    {
      "cell_type": "code",
      "metadata": {
        "id": "SmEkNF0mcVQb",
        "outputId": "91d6d789-97f6-4300-ac0c-d0d1eea68c2b",
        "colab": {
          "base_uri": "https://localhost:8080/",
          "height": 402
        }
      },
      "source": [
        "#Si queremos dividir el dataframe en 2 partes, para entrenar y otra para test\n",
        "#Primero se crea una variable x, que serian los datos o caracteristicas (3 primeras columnas)\n",
        "#dataframe, una lista de valores\n",
        "X = dataframe[['c1', 'c2', 'c3']]\n",
        "X\n",
        "#Asi la variable X va a tener las caracteristicas, 3 primeras columnas\n"
      ],
      "execution_count": 12,
      "outputs": [
        {
          "output_type": "execute_result",
          "data": {
            "text/html": [
              "<div>\n",
              "<style scoped>\n",
              "    .dataframe tbody tr th:only-of-type {\n",
              "        vertical-align: middle;\n",
              "    }\n",
              "\n",
              "    .dataframe tbody tr th {\n",
              "        vertical-align: top;\n",
              "    }\n",
              "\n",
              "    .dataframe thead th {\n",
              "        text-align: right;\n",
              "    }\n",
              "</style>\n",
              "<table border=\"1\" class=\"dataframe\">\n",
              "  <thead>\n",
              "    <tr style=\"text-align: right;\">\n",
              "      <th></th>\n",
              "      <th>c1</th>\n",
              "      <th>c2</th>\n",
              "      <th>c3</th>\n",
              "    </tr>\n",
              "  </thead>\n",
              "  <tbody>\n",
              "    <tr>\n",
              "      <th>0</th>\n",
              "      <td>31</td>\n",
              "      <td>6</td>\n",
              "      <td>93</td>\n",
              "    </tr>\n",
              "    <tr>\n",
              "      <th>1</th>\n",
              "      <td>43</td>\n",
              "      <td>41</td>\n",
              "      <td>11</td>\n",
              "    </tr>\n",
              "    <tr>\n",
              "      <th>2</th>\n",
              "      <td>91</td>\n",
              "      <td>5</td>\n",
              "      <td>96</td>\n",
              "    </tr>\n",
              "    <tr>\n",
              "      <th>3</th>\n",
              "      <td>76</td>\n",
              "      <td>92</td>\n",
              "      <td>86</td>\n",
              "    </tr>\n",
              "    <tr>\n",
              "      <th>4</th>\n",
              "      <td>15</td>\n",
              "      <td>38</td>\n",
              "      <td>24</td>\n",
              "    </tr>\n",
              "    <tr>\n",
              "      <th>...</th>\n",
              "      <td>...</td>\n",
              "      <td>...</td>\n",
              "      <td>...</td>\n",
              "    </tr>\n",
              "    <tr>\n",
              "      <th>95</th>\n",
              "      <td>46</td>\n",
              "      <td>96</td>\n",
              "      <td>38</td>\n",
              "    </tr>\n",
              "    <tr>\n",
              "      <th>96</th>\n",
              "      <td>22</td>\n",
              "      <td>75</td>\n",
              "      <td>63</td>\n",
              "    </tr>\n",
              "    <tr>\n",
              "      <th>97</th>\n",
              "      <td>43</td>\n",
              "      <td>97</td>\n",
              "      <td>19</td>\n",
              "    </tr>\n",
              "    <tr>\n",
              "      <th>98</th>\n",
              "      <td>0</td>\n",
              "      <td>90</td>\n",
              "      <td>91</td>\n",
              "    </tr>\n",
              "    <tr>\n",
              "      <th>99</th>\n",
              "      <td>96</td>\n",
              "      <td>41</td>\n",
              "      <td>40</td>\n",
              "    </tr>\n",
              "  </tbody>\n",
              "</table>\n",
              "<p>100 rows × 3 columns</p>\n",
              "</div>"
            ],
            "text/plain": [
              "    c1  c2  c3\n",
              "0   31   6  93\n",
              "1   43  41  11\n",
              "2   91   5  96\n",
              "3   76  92  86\n",
              "4   15  38  24\n",
              "..  ..  ..  ..\n",
              "95  46  96  38\n",
              "96  22  75  63\n",
              "97  43  97  19\n",
              "98   0  90  91\n",
              "99  96  41  40\n",
              "\n",
              "[100 rows x 3 columns]"
            ]
          },
          "metadata": {
            "tags": []
          },
          "execution_count": 12
        }
      ]
    },
    {
      "cell_type": "code",
      "metadata": {
        "id": "eZ-MtqbcevkO",
        "outputId": "19348deb-fb0e-4706-b455-ce455d647fb1",
        "colab": {
          "base_uri": "https://localhost:8080/",
          "height": 218
        }
      },
      "source": [
        "# En la y, solo estaria la columna etiqueta\n",
        "y = dataframe['Etiqueta']\n",
        "y\n",
        "#Con esto separamos la y ultima columna, x las primeras 3 columnas"
      ],
      "execution_count": 16,
      "outputs": [
        {
          "output_type": "execute_result",
          "data": {
            "text/plain": [
              "0     56\n",
              "1     43\n",
              "2     64\n",
              "3     19\n",
              "4     60\n",
              "      ..\n",
              "95    91\n",
              "96    26\n",
              "97    82\n",
              "98    83\n",
              "99    12\n",
              "Name: Etiqueta, Length: 100, dtype: int64"
            ]
          },
          "metadata": {
            "tags": []
          },
          "execution_count": 16
        }
      ]
    },
    {
      "cell_type": "code",
      "metadata": {
        "id": "HbmKhsuGfIhX"
      },
      "source": [
        "#Ahora tenemos queremos separar la x y la 'y' cada una de ellas en una parte para entrenamiento train, y la otra en test\n",
        "#La variable X, lo separamos en train y test, tambien para la var 'y'\n",
        "#Todo esto se hace mediante el train_test_split, le pasamos la X (3 primeras columnas) y(ultima columna), y le damos el tamaño, el 0.3, el 30% de los datos, 30 filas, sean para test\n",
        "# y el resto para train\n",
        "X_train, X_test, y_train, y_test = train_test_split(X, y, test_size=0.3)"
      ],
      "execution_count": 19,
      "outputs": []
    },
    {
      "cell_type": "code",
      "metadata": {
        "id": "W8p6Xz20fx7X"
      },
      "source": [
        "#con shape, revisamos que el 70% sea para train y el 30 para test\n",
        "X_train.shape"
      ],
      "execution_count": null,
      "outputs": []
    },
    {
      "cell_type": "code",
      "metadata": {
        "id": "pFuyd4fIge5N"
      },
      "source": [
        "#Vemos cuanto quedo para test.\n",
        "X_test.shape"
      ],
      "execution_count": null,
      "outputs": []
    },
    {
      "cell_type": "code",
      "metadata": {
        "id": "y2K0fb-9gsLZ",
        "outputId": "56bb81e5-0438-47a5-e3bc-37f5c2a58c3d",
        "colab": {
          "base_uri": "https://localhost:8080/",
          "height": 34
        }
      },
      "source": [
        "y_train.shape"
      ],
      "execution_count": 23,
      "outputs": [
        {
          "output_type": "execute_result",
          "data": {
            "text/plain": [
              "(70,)"
            ]
          },
          "metadata": {
            "tags": []
          },
          "execution_count": 23
        }
      ]
    },
    {
      "cell_type": "code",
      "metadata": {
        "id": "V5AG_iDggyr3",
        "outputId": "ab28b93f-ccc9-455c-88db-4ef23833a7a1",
        "colab": {
          "base_uri": "https://localhost:8080/",
          "height": 34
        }
      },
      "source": [
        "y_test.shape"
      ],
      "execution_count": 24,
      "outputs": [
        {
          "output_type": "execute_result",
          "data": {
            "text/plain": [
              "(30,)"
            ]
          },
          "metadata": {
            "tags": []
          },
          "execution_count": 24
        }
      ]
    },
    {
      "cell_type": "code",
      "metadata": {
        "id": "O7H97dmlg0Dt"
      },
      "source": [
        ""
      ],
      "execution_count": null,
      "outputs": []
    }
  ]
}